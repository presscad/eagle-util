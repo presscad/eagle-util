{
 "cells": [
  {
   "cell_type": "code",
   "execution_count": 1,
   "metadata": {},
   "outputs": [
    {
     "data": {
      "text/plain": [
       "True"
      ]
     },
     "execution_count": 1,
     "metadata": {},
     "output_type": "execute_result"
    }
   ],
   "source": [
    "#https://stackoverflow.com/questions/2953462/pinging-servers-in-python/45746002\n",
    "#NOTE: not good enough, cannot detect \"destination host unreachable\"\n",
    "\n",
    "from platform import system as system_name # Returns the system/OS name\n",
    "from os import system as system_call       # Execute a shell command\n",
    "\n",
    "def ping_test(host):\n",
    "    \"\"\"\n",
    "    Returns True if host (str) responds to a ping request.\n",
    "    Remember that some hosts may not respond to a ping request even if the host name is valid.\n",
    "    \"\"\"\n",
    "\n",
    "    # Ping parameters as function of OS\n",
    "    parameters = \"-n 1\" if system_name().lower()==\"windows\" else \"-c 1\"\n",
    "\n",
    "    # Pinging\n",
    "    return system_call(\"ping \" + parameters + \" \" + host) == 0\n",
    "\n",
    "ping_test(\"baidu.com\")"
   ]
  },
  {
   "cell_type": "code",
   "execution_count": 2,
   "metadata": {},
   "outputs": [
    {
     "name": "stdout",
     "output_type": "stream",
     "text": [
      "dynuaa\n",
      "True\n",
      "True\n"
     ]
    }
   ],
   "source": [
    "#https://stackoverflow.com/questions/14077835/associating-my-windows-computer-to-a-wifi-ap-with-python\n",
    "import subprocess\n",
    "\n",
    "def disconnect_wlan():\n",
    "    process = subprocess.Popen(\n",
    "        'netsh wlan disconnect',\n",
    "        shell=True,\n",
    "        stdout=subprocess.PIPE,\n",
    "        stderr=subprocess.PIPE)\n",
    "    stdout, stderr = process.communicate()\n",
    "    #stdout = stdout.decode(\"utf-8\") #for python3\n",
    "    #print(stdout, stderr)\n",
    "\n",
    "    # Return `True` if we were able to successfully connect\n",
    "    return ('successfully' in stdout) or ('\\xd2\\xd1\\xb3\\xc9\\xb9\\xa6' in stdout) #已成功...\n",
    "\n",
    "def connect_to_network(ssid):\n",
    "    process = subprocess.Popen(\n",
    "        'netsh wlan connect {0}'.format(ssid),\n",
    "        shell=True,\n",
    "        stdout=subprocess.PIPE,\n",
    "        stderr=subprocess.PIPE)\n",
    "    stdout, stderr = process.communicate()\n",
    "    #stdout = stdout.decode(\"utf-8\") #for python3\n",
    "    #print(stdout, stderr)\n",
    "\n",
    "    # Return `True` if we were able to successfully connect\n",
    "    return ('successfully' in stdout) or ('\\xd2\\xd1\\xb3\\xc9\\xb9\\xa6' in stdout) #已成功...\n",
    "\n",
    "def connected_ssid():\n",
    "    process = subprocess.Popen(\n",
    "        'netsh wlan show interfaces',\n",
    "        shell=True,\n",
    "        stdout=subprocess.PIPE,\n",
    "        stderr=subprocess.PIPE)\n",
    "    stdout, stderr = process.communicate()\n",
    "    #stdout = stdout.decode(\"utf-8\") #for python3\n",
    "\n",
    "    for s in stdout.split('\\r\\n'):\n",
    "        s = s.strip()\n",
    "        subs = s.split(':')\n",
    "        if len(subs) == 2 and subs[0].strip() == 'SSID':\n",
    "            return subs[1].strip()\n",
    "        \n",
    "    return \"\"\n",
    "\n",
    "print(connected_ssid())\n",
    "print(disconnect_wlan())\n",
    "print(connect_to_network('dynuaa'))\n"
   ]
  },
  {
   "cell_type": "code",
   "execution_count": null,
   "metadata": {
    "collapsed": true
   },
   "outputs": [],
   "source": []
  }
 ],
 "metadata": {
  "kernelspec": {
   "display_name": "Python 2",
   "language": "python",
   "name": "python2"
  },
  "language_info": {
   "codemirror_mode": {
    "name": "ipython",
    "version": 2
   },
   "file_extension": ".py",
   "mimetype": "text/x-python",
   "name": "python",
   "nbconvert_exporter": "python",
   "pygments_lexer": "ipython2",
   "version": "2.7.13"
  }
 },
 "nbformat": 4,
 "nbformat_minor": 2
}
